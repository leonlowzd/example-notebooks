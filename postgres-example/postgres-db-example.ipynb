{
 "cells": [
  {
   "cell_type": "code",
   "execution_count": null,
   "id": "f018d21f-1b63-4624-a3c2-20c215aa1b06",
   "metadata": {
    "tags": []
   },
   "outputs": [],
   "source": [
    "import psycopg2\n",
    "import os\n",
    "\n",
    "#retrieves your jupyter password which is same as your pgdata\n",
    "pwd = os.getenv('JUPYTER_TOKEN')\n",
    "pghost = os.getenv('PG_HOST')\n",
    "pgdb = os.getenv('PG_DB')\n",
    "pguser = os.getenv('PG_USER')\n",
    "\n",
    "conn = psycopg2.connect(\n",
    "    host=pghost,\n",
    "    database=pgdb,\n",
    "    user=pguser,\n",
    "    password=pwd)"
   ]
  },
  {
   "cell_type": "code",
   "execution_count": null,
   "id": "5147f1cf-50a1-4962-8a5c-3e997377c913",
   "metadata": {
    "tags": []
   },
   "outputs": [],
   "source": [
    "cur = conn.cursor()\n",
    "\n",
    "# execute a statement\n",
    "print('PostgreSQL database version:')\n",
    "cur.execute('SELECT version()')\n",
    "\n",
    "# display the PostgreSQL database server version\n",
    "db_version = cur.fetchone()\n",
    "print(db_version)\n",
    "       \n",
    "# close the communication with the PostgreSQL\n",
    "cur.close()"
   ]
  }
 ],
 "metadata": {
  "kernelspec": {
   "display_name": "Python 3 (ipykernel)",
   "language": "python",
   "name": "python3"
  },
  "language_info": {
   "codemirror_mode": {
    "name": "ipython",
    "version": 3
   },
   "file_extension": ".py",
   "mimetype": "text/x-python",
   "name": "python",
   "nbconvert_exporter": "python",
   "pygments_lexer": "ipython3",
   "version": "3.11.6"
  }
 },
 "nbformat": 4,
 "nbformat_minor": 5
}
