{
 "cells": [
  {
   "cell_type": "code",
   "execution_count": 7,
   "id": "eb944828-5490-40b6-8f87-cfa6d6f3ef0d",
   "metadata": {
    "tags": []
   },
   "outputs": [],
   "source": [
    "# for dash app to work in jupyterlab, required to import jupyter_dash library\n",
    "from dash import Dash, jupyter_dash\n",
    "import dash_bootstrap_components as dbc"
   ]
  },
  {
   "cell_type": "code",
   "execution_count": 9,
   "id": "0a1e7321-8698-4225-9348-e5c890c094fb",
   "metadata": {
    "tags": []
   },
   "outputs": [],
   "source": [
    "# this is required for jupyter_dash library to figure out the url for how jupyter server proxy will serve your dash app i.e {jupyter-url:port}/proxy/{dash-app-port}\n",
    "jupyter_dash.infer_jupyter_proxy_config()"
   ]
  },
  {
   "cell_type": "code",
   "execution_count": 10,
   "id": "8e5d2035-6bcd-4d2d-9220-64fd9cbcc1b1",
   "metadata": {
    "tags": []
   },
   "outputs": [],
   "source": [
    "app = Dash(external_stylesheets=[dbc.themes.BOOTSTRAP])\n",
    "\n",
    "app.layout = dbc.Container(\n",
    "    dbc.Alert(\"Hello Bootstrap!\", color=\"success\"),\n",
    "    className=\"p-5\",\n",
    ")"
   ]
  },
  {
   "cell_type": "code",
   "execution_count": 11,
   "id": "46f9ced5-87ee-4a6d-924f-9fe3fd6d80fc",
   "metadata": {
    "tags": []
   },
   "outputs": [
    {
     "data": {
      "text/html": [
       "\n",
       "        <iframe\n",
       "            width=\"100%\"\n",
       "            height=\"650\"\n",
       "            src=\"http://127.0.0.1:8889/proxy/8054/\"\n",
       "            frameborder=\"0\"\n",
       "            allowfullscreen\n",
       "            \n",
       "        ></iframe>\n",
       "        "
      ],
      "text/plain": [
       "<IPython.lib.display.IFrame at 0x7fb4d1c9c650>"
      ]
     },
     "metadata": {},
     "output_type": "display_data"
    }
   ],
   "source": [
    "if __name__ == \"__main__\":\n",
    "    # To run dash app inline\n",
    "    app.run(port=8054)\n",
    "    \n",
    "    # To run dash app as a new tab in Jupyerlab\n",
    "    #app.run(jupyter_mode=\"jupyterlab\", port=8054)\n",
    "    \n",
    "    # To run dash app as a new tab in the internet browser\n",
    "    #app.run(jupyter_mode=\"tab\", port=8054)\n",
    "    \n",
    "    # To display an link to dash app\n",
    "    #app.run(jupyter_mode=\"external\", port=8054)"
   ]
  },
  {
   "cell_type": "code",
   "execution_count": null,
   "id": "7e598d12-fa9a-4cdc-ba97-a06798041875",
   "metadata": {},
   "outputs": [],
   "source": []
  }
 ],
 "metadata": {
  "kernelspec": {
   "display_name": "Python 3 (ipykernel)",
   "language": "python",
   "name": "python3"
  },
  "language_info": {
   "codemirror_mode": {
    "name": "ipython",
    "version": 3
   },
   "file_extension": ".py",
   "mimetype": "text/x-python",
   "name": "python",
   "nbconvert_exporter": "python",
   "pygments_lexer": "ipython3",
   "version": "3.11.6"
  }
 },
 "nbformat": 4,
 "nbformat_minor": 5
}
