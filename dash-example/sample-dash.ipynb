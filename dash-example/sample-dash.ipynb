{
 "cells": [
  {
   "cell_type": "markdown",
   "id": "fa093e81-aec3-4e7c-ac07-8566b9da67f8",
   "metadata": {},
   "source": [
    "**Sample app to demonstrate running dash app in jupyterlab that is served through jupyter_server_proxy**"
   ]
  },
  {
   "cell_type": "code",
   "execution_count": 14,
   "id": "0a1499ab-2532-481a-96a9-76b7d9046b36",
   "metadata": {
    "tags": []
   },
   "outputs": [],
   "source": [
    "# for dash app to work in jupyterlab, required to import jupyter_dash library\n",
    "from dash import Dash, html, dcc, callback, Output, Input, jupyter_dash\n",
    "import plotly.express as px\n",
    "import pandas as pd"
   ]
  },
  {
   "cell_type": "code",
   "execution_count": 16,
   "id": "fb6465db-c0c5-41f1-ad27-223120cf1b41",
   "metadata": {
    "tags": []
   },
   "outputs": [],
   "source": [
    "# this is required for jupyter_dash library to figure out the url for how jupyter server proxy will serve your dash app i.e {jupyter-url:port}/proxy/{dash-app-port}\n",
    "jupyter_dash.infer_jupyter_proxy_config()"
   ]
  },
  {
   "cell_type": "code",
   "execution_count": 17,
   "id": "84b5d4af-b9fa-4fe2-85eb-0c8f4374718d",
   "metadata": {
    "tags": []
   },
   "outputs": [],
   "source": [
    "df = pd.read_csv('./gapminder_unfiltered.csv')"
   ]
  },
  {
   "cell_type": "code",
   "execution_count": 18,
   "id": "9df38df1-8986-4e41-8c63-8d75a7451acd",
   "metadata": {
    "tags": []
   },
   "outputs": [],
   "source": [
    "app = Dash(__name__)\n",
    "\n",
    "app.layout = html.Div([\n",
    "    html.H1(children='Title of Dash App', style={'textAlign':'center'}),\n",
    "    dcc.Dropdown(df.country.unique(), 'Canada', id='dropdown-selection'),\n",
    "    dcc.Graph(id='graph-content')\n",
    "])\n",
    "\n",
    "@callback(\n",
    "    Output('graph-content', 'figure'),\n",
    "    Input('dropdown-selection', 'value')\n",
    ")\n",
    "def update_graph(value):\n",
    "    dff = df[df.country==value]\n",
    "    return px.line(dff, x='year', y='pop')"
   ]
  },
  {
   "cell_type": "markdown",
   "id": "306aeebe-d7f8-44e4-ab4c-f9d3195cabc5",
   "metadata": {},
   "source": [
    "This following app.run options will only work if (1) jupyter_dash extension is installed and activated successfully, (2) jupyter_dash successfully inferred proxy config of jupyter_server_proxy"
   ]
  },
  {
   "cell_type": "code",
   "execution_count": 19,
   "id": "6ce3076f-d248-4b6d-b9ee-3b1eb08cf340",
   "metadata": {
    "tags": []
   },
   "outputs": [
    {
     "data": {
      "text/html": [
       "\n",
       "        <iframe\n",
       "            width=\"100%\"\n",
       "            height=\"650\"\n",
       "            src=\"http://127.0.0.1:8889/proxy/8053/\"\n",
       "            frameborder=\"0\"\n",
       "            allowfullscreen\n",
       "            \n",
       "        ></iframe>\n",
       "        "
      ],
      "text/plain": [
       "<IPython.lib.display.IFrame at 0x7f7ec6d7ae10>"
      ]
     },
     "metadata": {},
     "output_type": "display_data"
    }
   ],
   "source": [
    "if __name__ == \"__main__\":\n",
    "    # To run dash app inline\n",
    "    app.run(port=8053)\n",
    "    \n",
    "    # To run dash app as a new tab in Jupyerlab\n",
    "    #app.run(jupyter_mode=\"jupyterlab\", port=8053)\n",
    "    \n",
    "    # To run dash app as a new tab in the internet browser\n",
    "    #app.run(jupyter_mode=\"tab\", port=8053)\n",
    "    \n",
    "    # To display an link to dash app\n",
    "    #app.run(jupyter_mode=\"external\", port=8053)"
   ]
  }
 ],
 "metadata": {
  "kernelspec": {
   "display_name": "Python 3 (ipykernel)",
   "language": "python",
   "name": "python3"
  },
  "language_info": {
   "codemirror_mode": {
    "name": "ipython",
    "version": 3
   },
   "file_extension": ".py",
   "mimetype": "text/x-python",
   "name": "python",
   "nbconvert_exporter": "python",
   "pygments_lexer": "ipython3",
   "version": "3.11.6"
  }
 },
 "nbformat": 4,
 "nbformat_minor": 5
}
